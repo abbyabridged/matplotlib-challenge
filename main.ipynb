{
 "cells": [
  {
   "cell_type": "markdown",
   "metadata": {},
   "source": [
    "## Observations and Insights "
   ]
  },
  {
   "cell_type": "markdown",
   "metadata": {},
   "source": [
    "Look across all previously generated figures and tables and write at least three observations or inferences that can be made from the data. Include these observations at the top of notebook.\n",
    "\n",
    "Observation 1\n",
    "Observation 2\n",
    "Observation 3\n"
   ]
  },
  {
   "cell_type": "code",
   "execution_count": null,
   "metadata": {},
   "outputs": [],
   "source": [
    "%matplotlib widget"
   ]
  },
  {
   "cell_type": "code",
   "execution_count": null,
   "metadata": {},
   "outputs": [],
   "source": [
    "# Dependencies and Setup\n",
    "import matplotlib.pyplot as plt\n",
    "import pandas as pd\n",
    "import scipy.stats as st\n",
    "import numpy as np\n",
    "from scipy.stats import linregress\n",
    "\n",
    "# Study data files\n",
    "mouse_metadata_path = \"data/Mouse_metadata.csv\"\n",
    "study_results_path = \"data/Study_results.csv\"\n",
    "\n",
    "# Read the mouse data and the study results\n",
    "mouse_metadata = pd.read_csv(mouse_metadata_path)\n",
    "study_results = pd.read_csv(study_results_path)\n",
    "\n",
    "# Combine the data into a single dataset\n",
    "scc_combined_df = pd.DataFrame.merge(mouse_metadata,study_results,on=\"Mouse ID\",how=\"outer\")\n",
    "\n",
    "# Display the data table for preview\n",
    "#scc_data_df.info()\n",
    "scc_combined_df"
   ]
  },
  {
   "cell_type": "code",
   "execution_count": null,
   "metadata": {},
   "outputs": [],
   "source": [
    "# Checking the number of mice.\n",
    "scc_combined_df[\"Mouse ID\"].nunique()"
   ]
  },
  {
   "cell_type": "code",
   "execution_count": null,
   "metadata": {},
   "outputs": [],
   "source": [
    "# Getting the duplicate mice by ID number that shows up for Mouse ID and Timepoint. "
   ]
  },
  {
   "cell_type": "code",
   "execution_count": null,
   "metadata": {},
   "outputs": [],
   "source": [
    "# Optional: Get all the data for the duplicate mouse ID. \n",
    "duplicate_mice = scc_combined_df[scc_combined_df.duplicated([\"Mouse ID\",\"Timepoint\"])]\n",
    "duplicate_mice"
   ]
  },
  {
   "cell_type": "code",
   "execution_count": null,
   "metadata": {},
   "outputs": [],
   "source": [
    "# Create a clean DataFrame by dropping the duplicate mouse by its ID.\n",
    "scc_cleaned_df = scc_combined_df.drop_duplicates([\"Mouse ID\",\"Timepoint\"])\n",
    "scc_cleaned_df"
   ]
  },
  {
   "cell_type": "code",
   "execution_count": null,
   "metadata": {},
   "outputs": [],
   "source": [
    "# Checking the number of mice in the clean DataFrame.\n",
    "num_mice = scc_cleaned_df[\"Mouse ID\"].nunique()\n",
    "num_mice"
   ]
  },
  {
   "cell_type": "markdown",
   "metadata": {},
   "source": [
    "## Summary Statistics"
   ]
  },
  {
   "cell_type": "code",
   "execution_count": null,
   "metadata": {},
   "outputs": [],
   "source": [
    "# Generate a summary statistics table of mean, median, variance, standard deviation, and SEM of the tumor volume for each regimen\n",
    "# This method is the most straightforward, creating multiple series and putting them all together at the end.\n",
    "\n",
    "# Create a list of regimens\n",
    "drug_regimen_list = scc_cleaned_df[\"Drug Regimen\"].unique()\n",
    "# Create variables to hold stats for each drug regimen\n",
    "drug_list = []\n",
    "mean_list = []\n",
    "median_list = []\n",
    "variance_list = []\n",
    "stdev_list = []\n",
    "sem_list = []\n",
    "\n",
    "# Use a loop to create a series of tumor volume for each drug regimen\n",
    "for drug in drug_regimen_list:\n",
    "        drug_list.append(drug)\n",
    "        mean_list.append(scc_cleaned_df.loc[(scc_cleaned_df[\"Drug Regimen\"]==drug)][\"Tumor Volume (mm3)\"].mean())\n",
    "        median_list.append(scc_cleaned_df.loc[(scc_cleaned_df[\"Drug Regimen\"]==drug)][\"Tumor Volume (mm3)\"].median())\n",
    "        variance_list.append(scc_cleaned_df.loc[(scc_cleaned_df[\"Drug Regimen\"]==drug)][\"Tumor Volume (mm3)\"].var())\n",
    "        stdev_list.append(scc_cleaned_df.loc[(scc_cleaned_df[\"Drug Regimen\"]==drug)][\"Tumor Volume (mm3)\"].std())\n",
    "        sem_list.append(scc_cleaned_df.loc[(scc_cleaned_df[\"Drug Regimen\"]==drug)][\"Tumor Volume (mm3)\"].sem())\n",
    "# Put lists together into a data frame\n",
    "summary_stats_df = pd.DataFrame({\"Drug Regimen\" : drug_list,\"mean\" : mean_list, \"median\" : median_list, \"var\": variance_list, \"std\" : stdev_list, \"sem\" : sem_list}).sort_values(\"Drug Regimen\").round(2).set_index(\"Drug Regimen\")\n",
    "summary_stats_df"
   ]
  },
  {
   "cell_type": "code",
   "execution_count": null,
   "metadata": {},
   "outputs": [],
   "source": [
    "# Generate a summary statistics table of mean, median, variance, standard deviation, and SEM of the tumor volume for each regimen\n",
    "# This method produces everything in a single groupby function\n",
    "scc_cleaned_df.groupby([\"Drug Regimen\"]).agg({\"Tumor Volume (mm3)\": [\"mean\",\"median\",\"var\",\"std\",\"sem\"]}).round(2)"
   ]
  },
  {
   "cell_type": "markdown",
   "metadata": {},
   "source": [
    "## Bar and Pie Charts"
   ]
  },
  {
   "cell_type": "code",
   "execution_count": null,
   "metadata": {},
   "outputs": [],
   "source": [
    "# Check mouse counts to verify bar plot values\n",
    "drug_mouse_count = scc_cleaned_df.groupby([\"Drug Regimen\"],as_index=False).agg({\"Mouse ID\": pd.Series.nunique})\n",
    "drug_mouse_count"
   ]
  },
  {
   "cell_type": "code",
   "execution_count": null,
   "metadata": {},
   "outputs": [],
   "source": [
    "# Generate a bar plot showing the total number of mice for each treatment throughout the course of the study using pandas. \n",
    "# Group data by drug regimen and aggregate by number of mice (count)\n",
    "# mice_by_regimen_df = scc_cleaned_df.groupby([\"Drug Regimen\"],as_index=False).agg({\"Mouse ID\": \"count\"})\n",
    "# Plot data as a bar chart\n",
    "bar_plot = drug_mouse_count.plot(kind=\"bar\",x=\"Drug Regimen\",y=\"Mouse ID\",legend=False)\n",
    "bar_plot.set_xlabel(\"Drug Regimen\") # x axis labels\n",
    "bar_plot.set_ylabel(\"Number of mice\") # y axis labels\n",
    "plt.tight_layout() # Fit plot to space"
   ]
  },
  {
   "cell_type": "code",
   "execution_count": null,
   "metadata": {},
   "outputs": [],
   "source": [
    "# Generate a bar plot showing the total number of mice for each treatment throughout the course of the study using pyplot.\n",
    "fig1,ax1 = plt.subplots()\n",
    "drug_list = drug_mouse_count[\"Drug Regimen\"].unique() # Add categories for x axis\n",
    "x_axis = np.arange(0, len(drug_list)) # x axis length\n",
    "num_mice = drug_mouse_count[\"Mouse ID\"] # y axis values\n",
    "tick_locations = [value for value in x_axis] # Add tick locations\n",
    "plt.xticks(tick_locations,drug_list,rotation=90) # Add x tick labels\n",
    "plt.xlabel(\"Drug Regimen\") # x axis labels\n",
    "plt.ylabel(\"Number of mice\") # y axis labels\n",
    "plt.tight_layout() # Fit plot to space\n",
    "plt.bar(x_axis,num_mice) # Generate plot"
   ]
  },
  {
   "cell_type": "code",
   "execution_count": null,
   "metadata": {},
   "outputs": [],
   "source": [
    "# Check mouse by sex to verify values in pit plots\n",
    "sex_mouse_count = scc_cleaned_df.groupby([\"Sex\"],as_index=False).agg({\"Mouse ID\": pd.Series.nunique})\n",
    "sex_mouse_count = sex_mouse_count.rename(columns={\"Mouse ID\":\"Number of mice\"})\n",
    "sex_mouse_count"
   ]
  },
  {
   "cell_type": "code",
   "execution_count": null,
   "metadata": {},
   "outputs": [],
   "source": [
    "# Generate a pie plot showing the distribution of female versus male mice using pandas\n",
    "pie_plot = sex_mouse_count.plot(kind=\"pie\",y=\"Number of mice\", labels=sex_mouse_count[\"Sex\"],autopct='%1.1f%%',startangle=135,legend=False)\n",
    "plt.show()"
   ]
  },
  {
   "cell_type": "code",
   "execution_count": null,
   "metadata": {},
   "outputs": [],
   "source": [
    "# Generate a pie plot showing the distribution of female versus male mice using pyplot\n",
    "labels = sex_mouse_count[\"Sex\"]\n",
    "sizes = sex_mouse_count[\"Number of mice\"]\n",
    "fig1, ax1 = plt.subplots()\n",
    "ax1.pie(sizes, labels=labels, autopct='%1.1f%%', startangle=135)\n",
    "plt.ylabel(\"Number of mice\")\n",
    "plt.show()"
   ]
  },
  {
   "cell_type": "markdown",
   "metadata": {},
   "source": [
    "## Quartiles, Outliers and Boxplots"
   ]
  },
  {
   "cell_type": "code",
   "execution_count": null,
   "metadata": {},
   "outputs": [],
   "source": [
    "# Calculate the final tumor volume of each mouse across four of the treatment regimens:  \n",
    "# Capomulin, Ramicane, Infubinol, and Ceftamin\n",
    "\n",
    "# Create data frames for each relevant drug regimen\n",
    "capomulin_df = scc_cleaned_df.loc[(scc_cleaned_df[\"Drug Regimen\"]==\"Capomulin\")]\n",
    "ramicane_df = scc_cleaned_df.loc[(scc_cleaned_df[\"Drug Regimen\"]==\"Ramicane\")]\n",
    "infubinol_df = scc_cleaned_df.loc[(scc_cleaned_df[\"Drug Regimen\"]==\"Infubinol\")]\n",
    "ceftamin_df =  scc_cleaned_df.loc[(scc_cleaned_df[\"Drug Regimen\"]==\"Ceftamin\")]\n",
    "# Concatenate individual drug regimen data frames\n",
    "treatment_df = pd.concat([capomulin_df,ramicane_df,infubinol_df,ceftamin_df],ignore_index=True)\n",
    "# treatment_df\n",
    "# Start by getting the last (greatest) timepoint for each mouse\n",
    "last_timepoint_df = treatment_df.groupby([\"Mouse ID\"],as_index=False).agg({\"Timepoint\" : pd.Series.max})\n",
    "# Merge this group df with the original dataframe to get the tumor volume at the last timepoint\n",
    "merged_df = pd.merge(last_timepoint_df,treatment_df,on=\"Mouse ID\",how=\"left\")\n",
    "# Keep rows with final timepoint only\n",
    "merged_df2 = merged_df.loc[merged_df[\"Timepoint_y\"]==merged_df[\"Timepoint_x\"]]\n",
    "# Create new data frame with relvant data only\n",
    "final_tumor_df = merged_df2[[\"Mouse ID\",\"Timepoint_x\",\"Drug Regimen\",\"Sex\",\"Age_months\",\"Weight (g)\",\"Tumor Volume (mm3)\",\"Metastatic Sites\"]]\n",
    "# Rename column\n",
    "final_tumor_df = final_tumor_df.rename(columns={\"Timepoint_x\":\"Timepoint\"})\n",
    "# Reset index\n",
    "final_tumor_df.reset_index(drop=True,inplace=True)\n",
    "final_tumor_df.head()"
   ]
  },
  {
   "cell_type": "code",
   "execution_count": null,
   "metadata": {},
   "outputs": [],
   "source": [
    "# Put treatments into a list for for loop (and later for plot labels)\n",
    "treatment_list = final_tumor_df[\"Drug Regimen\"].unique()\n",
    "# treatment_list\n",
    "# Create empty list to fill with tumor vol data (for plotting)\n",
    "tumor_vol_data = []\n",
    "\n",
    "# Calculate the IQR and quantitatively determine if there are any potential outliers. \n",
    "for treatment in treatment_list:\n",
    "        quartiles = final_tumor_df.loc[(final_tumor_df[\"Drug Regimen\"]==treatment)][\"Tumor Volume (mm3)\"].quantile([.25,.5,.75])\n",
    "        lowerq = quartiles[0.25]\n",
    "        upperq = quartiles[0.75]\n",
    "        iqr = round(upperq-lowerq,2)\n",
    "        lower_bound = round(lowerq - (1.5*iqr),2)\n",
    "        upper_bound = round(upperq + (1.5*iqr),2)\n",
    "        # Locate the rows which contain mice on each drug and get the tumor volumes\n",
    "        tumor_vol_data.append(final_tumor_df.loc[(final_tumor_df[\"Drug Regimen\"]==treatment)][\"Tumor Volume (mm3)\"])\n",
    "        # add subset \n",
    "        # ???\n",
    "        # Determine outliers using upper and lower bounds\n",
    "        print(f\"The interquartile range for {treatment} is {iqr}\")\n",
    "        print(f\"Values below {lower_bound} could be outliers.\")\n",
    "        print(f\"Values above {upper_bound} could be outliers.\")"
   ]
  },
  {
   "cell_type": "code",
   "execution_count": null,
   "metadata": {},
   "outputs": [],
   "source": [
    "# Generate a box plot of the final tumor volume of each mouse across four regimens of interest\n",
    "fig1, ax1 = plt.subplots()\n",
    "ax1.set_title(\"Tumor volume by drug\")\n",
    "ax1.set_ylabel(\"Tumor volume (mm3)\")\n",
    "ax1.set_xlabel(\"Drug Regimen\")\n",
    "green_diamond = dict(markerfacecolor='g', marker='D') # Change outlier marker\n",
    "ax1.boxplot(tumor_vol_data, flierprops=green_diamond) # Plot with new outlier marker\n",
    "plt.show()\n",
    "plt.xticks([1,2,3,4],treatment_list)"
   ]
  },
  {
   "cell_type": "markdown",
   "metadata": {},
   "source": [
    "## Line and Scatter Plots"
   ]
  },
  {
   "cell_type": "code",
   "execution_count": null,
   "metadata": {},
   "outputs": [],
   "source": [
    "# Generate a line plot of time point versus tumor volume for a mouse treated with Capomulin\n",
    "# Use data frame created earlier:\n",
    "# capomulin_df = scc_cleaned_df.loc[(scc_cleaned_df[\"Drug Regimen\"]==\"Capomulin\")]\n",
    "# capomulin_df\n",
    "# Select one mouse\n",
    "# capomulin_df[\"Mouse ID\"].unique()\n",
    "# Seleted mouse ID s185\n",
    "s185_df = capomulin_df.loc[(capomulin_df[\"Mouse ID\"]==\"s185\")]\n",
    "# s185_df \n",
    "# Series for time points\n",
    "s185_timepoints = s185_df[\"Timepoint\"]\n",
    "# Series for tumor volume\n",
    "s185_tumorvol = s185_df[\"Tumor Volume (mm3)\"]\n",
    "# Plot\n",
    "fig1, ax1 = plt.subplots()\n",
    "plt.plot(s185_timepoints,s185_tumorvol)\n",
    "ax1.set_title(\"Tumor volume over time (s185, Capomulin)\")\n",
    "ax1.set_ylabel(\"Tumor volume (mm3)\")\n",
    "ax1.set_xlabel(\"Time point\")\n",
    "plt.show()"
   ]
  },
  {
   "cell_type": "code",
   "execution_count": null,
   "metadata": {},
   "outputs": [],
   "source": [
    "# Generate a scatter plot of mouse weight versus average tumor volume for the Capomulin regimen\n",
    "# Use data frame created earlier:\n",
    "# capomulin_df = scc_cleaned_df.loc[(scc_cleaned_df[\"Drug Regimen\"]==\"Capomulin\")]\n",
    "# Series for mouse weight\n",
    "weight = capomulin_df.groupby([\"Mouse ID\"],as_index=False).agg({\"Weight (g)\":pd.Series.max})\n",
    "# Series for average tumor volume\n",
    "ave_tumor_vol = capomulin_df.groupby([\"Mouse ID\"],as_index=False).agg({\"Tumor Volume (mm3)\":\"mean\"})\n",
    "# Plot tumor volumn versus mouse weight\n",
    "fig1, ax1 = plt.subplots()\n",
    "x_values = weight[\"Weight (g)\"]\n",
    "y_values = ave_tumor_vol[\"Tumor Volume (mm3)\"]\n",
    "plt.scatter(x_values,y_values)\n",
    "ax1.set_title(\"Tumor volume versus mouse weight (Capomulin)\")\n",
    "ax1.set_ylabel(\"Average tumor volume (mm3)\")\n",
    "ax1.set_xlabel(\"Weight (g)\")\n",
    "plt.show()"
   ]
  },
  {
   "cell_type": "markdown",
   "metadata": {},
   "source": [
    "## Correlation and Regression"
   ]
  },
  {
   "cell_type": "code",
   "execution_count": null,
   "metadata": {},
   "outputs": [],
   "source": [
    "# Calculate the correlation coefficient and linear regression model \n",
    "# for mouse weight and average tumor volume for the Capomulin regimen\n",
    "\n",
    "# Add the linear regression equation and line to plot\n",
    "fig1, ax1 = plt.subplots()\n",
    "x_values = weight[\"Weight (g)\"]\n",
    "y_values = ave_tumor_vol[\"Tumor Volume (mm3)\"]\n",
    "(slope, intercept, rvalue, pvalue, stderr) = linregress(x_values, y_values)\n",
    "regress_values = x_values * slope + intercept\n",
    "line_eq = \"y = \" + str(round(slope,2)) + \"x + \" + str(round(intercept,2)) # Plot the linear regression line\n",
    "plt.scatter(x_values,y_values)\n",
    "plt.plot(x_values,regress_values,\"r-\",label='y={:.2f}x+{:.2f}'.format(slope,intercept))\n",
    "plt.legend(fontsize=9)\n",
    "ax1.set_title(\"Tumor volume versus mouse weight (Capomulin)\")\n",
    "ax1.set_ylabel(\"Average tumor volume (mm3)\")\n",
    "ax1.set_xlabel(\"Weight (g)\")\n",
    "print(f\"The r-squared is: {rvalue**2}\") # Print to correlation ceoefficient\n",
    "plt.show()"
   ]
  }
 ],
 "metadata": {
  "anaconda-cloud": {},
  "kernelspec": {
   "display_name": "Python 3",
   "language": "python",
   "name": "python3"
  },
  "language_info": {
   "codemirror_mode": {
    "name": "ipython",
    "version": 3
   },
   "file_extension": ".py",
   "mimetype": "text/x-python",
   "name": "python",
   "nbconvert_exporter": "python",
   "pygments_lexer": "ipython3",
   "version": "3.7.6"
  }
 },
 "nbformat": 4,
 "nbformat_minor": 4
}
